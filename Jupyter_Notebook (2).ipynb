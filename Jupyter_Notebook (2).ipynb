{
 "cells": [
  {
   "cell_type": "markdown",
   "metadata": {},
   "source": [
    "<center>\n",
    "    <img src=\"https://cf-courses-data.s3.us.cloud-object-storage.appdomain.cloud/IBMDeveloperSkillsNetwork-DS0105EN-SkillsNetwork/labs/Module2/images/SN_web_lightmode.png\" width=\"300\" alt=\"cognitiveclass.ai logo\">\n",
    "</center>\n"
   ]
  },
  {
   "cell_type": "markdown",
   "metadata": {},
   "source": [
    "#### Add your code below following the instructions given in the course\n"
   ]
  },
  {
   "cell_type": "markdown",
   "metadata": {
    "tags": []
   },
   "source": [
    "# Jupyter Notebook"
   ]
  },
  {
   "cell_type": "markdown",
   "metadata": {},
   "source": [
    "## This is the graded quiz"
   ]
  },
  {
   "cell_type": "markdown",
   "metadata": {
    "tags": []
   },
   "source": [
    "### List of data science languages\n",
    " - R\n",
    " - MATLAB\n",
    " - Phyton\n",
    " - Java\n",
    " - SQL\n",
    " - .\n",
    " - .\n",
    " - Julia\n",
    " - C++"
   ]
  },
  {
   "cell_type": "markdown",
   "metadata": {},
   "source": [
    "### List of data science libraries in Python\n",
    " - Pandas\n",
    " - Numpy\n",
    " - Scipy\n",
    " - Keras\n",
    " - .\n",
    " - .\n",
    " - PyTorch"
   ]
  },
  {
   "cell_type": "markdown",
   "metadata": {},
   "source": [
    "### Table of data science tools\n",
    "\n",
    "| Name of the tool | Source |\n",
    "| :- | -: |\n",
    "| Apache Spark | Open Source |\n",
    "| D3js  | Open Source |\n",
    "| Julia | Open Source |\n",
    "| Jupyter Notebook | Open Source |\n",
    "| Matlab | Licenced |\n",
    "| Maple | Licenced |\n",
    "| Mathematica | Licenced |"
   ]
  },
  {
   "cell_type": "markdown",
   "metadata": {},
   "source": [
    "#### A markdown cell introducing arithmetic expression example\n",
    "#### 3+4\n",
    "#### a = 4\n",
    "#### b= 6\n",
    "#### c = a*b\n",
    "#### print(c)"
   ]
  },
  {
   "cell_type": "code",
   "execution_count": 3,
   "metadata": {
    "tags": []
   },
   "outputs": [
    {
     "name": "stdout",
     "output_type": "stream",
     "text": [
      "c = 9\n",
      "d = 20\n"
     ]
    }
   ],
   "source": [
    "a= 4\n",
    "b = 5\n",
    "c = a + b\n",
    "d= a * b\n",
    "print(\"c =\",c)\n",
    "print(\"d =\",d)"
   ]
  },
  {
   "cell_type": "code",
   "execution_count": 7,
   "metadata": {
    "tags": []
   },
   "outputs": [
    {
     "name": "stdout",
     "output_type": "stream",
     "text": [
      "2 h 5 min\n"
     ]
    }
   ],
   "source": [
    "min= 125\n",
    "h1= min//60\n",
    "h2 = min%60\n",
    "print(h1,\"h\",h2,\"min\")"
   ]
  },
  {
   "cell_type": "markdown",
   "metadata": {},
   "source": [
    "### Markdown cell of list Objectives\n",
    " - Obj1\n",
    " - Obj2\n",
    " - Obj3\n",
    " - Obj4\n"
   ]
  },
  {
   "cell_type": "markdown",
   "metadata": {},
   "source": [
    "# AUTHOR ERDEM"
   ]
  },
  {
   "cell_type": "code",
   "execution_count": null,
   "metadata": {},
   "outputs": [],
   "source": []
  }
 ],
 "metadata": {
  "kernelspec": {
   "display_name": "Python",
   "language": "python",
   "name": "conda-env-python-py"
  },
  "language_info": {
   "codemirror_mode": {
    "name": "ipython",
    "version": 3
   },
   "file_extension": ".py",
   "mimetype": "text/x-python",
   "name": "python",
   "nbconvert_exporter": "python",
   "pygments_lexer": "ipython3",
   "version": "3.7.12"
  }
 },
 "nbformat": 4,
 "nbformat_minor": 4
}
